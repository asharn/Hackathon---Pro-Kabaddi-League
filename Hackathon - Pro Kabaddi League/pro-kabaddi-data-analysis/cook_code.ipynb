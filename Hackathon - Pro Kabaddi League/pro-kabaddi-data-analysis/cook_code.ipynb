{
 "cells": [
  {
   "cell_type": "code",
   "execution_count": null,
   "metadata": {},
   "outputs": [],
   "source": [
    "''' This '''"
   ]
  },
  {
   "cell_type": "code",
   "execution_count": null,
   "metadata": {},
   "outputs": [],
   "source": [
    "\n",
    "import warnings\n",
    "warnings.filterwarnings('ignore')\n",
    "\n",
    "pd.set_option(\"display.max_columns\", 300)\n",
    "pd.set_option(\"display.max_rows\", 300)\n",
    "\n",
    "# Until fuction: line seperator\n",
    "def print_dashes_and_ln():\n",
    "    print('-'*100, '\\n')\n",
    "    \n",
    "# Formatter to display all float format in 2 decimal format\n",
    "pd.options.display.float_format = '{:.2f}'.format"
   ]
  },
  {
   "cell_type": "code",
   "execution_count": null,
   "metadata": {},
   "outputs": [],
   "source": [
    "# Get column names\n",
    "column_names = df.columns\n",
    "print(column_names)\n",
    "\n",
    "# Also check if the column is unique\n",
    "for i in column_names:\n",
    "  print('{} is unique: {}'.format(i, df[i].is_unique))\n",
    "\n",
    "'''The inplace=True has been added so you don’t need to save over the original df by assigning the result of .drop() to df. \n",
    "Many of the methods in pandas support inplace=True, so try to use it as much as possible to avoid unnecessary reassignment.'''\n",
    "# Drop unwanted columns\n",
    "df.drop(columns_to_drop, inplace=True, axis=1)\n",
    "\n",
    "\n",
    "# Fill NaN with the mean of the column\n",
    "df['col'] = df['col'].fillna(df['col'].mean())\n",
    "\n",
    "# Drop any rows which have any nans\n",
    "df.dropna()\n",
    "# Drop columns that have any nans\n",
    "df.dropna(axis=1)\n",
    "# Only drop columns which have at least 90% non-NaNs\n",
    "df.dropna(thresh=int(df.shape[0] * .9), axis=1)\n",
    "\n",
    "# Follow this syntax\n",
    "np.where(if_this_condition_is_true, do_this, else_this)\n",
    "# Example\n",
    "df['new_column'] = np.where(df[i] > 10, 'foo', 'bar) "
   ]
  },
  {
   "cell_type": "code",
   "execution_count": null,
   "metadata": {},
   "outputs": [],
   "source": [
    "import pandas as pd\n",
    "import numpy\n",
    "import dedupe\n",
    "import os\n",
    "import csv\n",
    "import re\n",
    "from unidecode import unidecode\n",
    "def preProcess(column):\n",
    "    '''\n",
    "    Used to prevent errors during the dedupe process.\n",
    "    '''\n",
    "    try : \n",
    "        column = column.decode('utf8')\n",
    "    except AttributeError:\n",
    "        pass\n",
    "    column = unidecode(column)\n",
    "    column = re.sub('  +', ' ', column)\n",
    "    column = re.sub('\\n', ' ', column)\n",
    "    column = column.strip().strip('\"').strip(\"'\").lower().strip()\n",
    "    \n",
    "    if not column:\n",
    "        column = None\n",
    "    return column\n",
    "\n",
    "\n",
    "def readData(filename):\n",
    "    \n",
    "    data_d = {}\n",
    "    with open(filename) as f:\n",
    "        reader = csv.DictReader(f)\n",
    "        for row in reader:\n",
    "            clean_row = [(k, preProcess(v)) for (k, v) in row.items()]\n",
    "            row_id = int(row['Id'])\n",
    "            data_d[row_id] = dict(clean_row)\n",
    "return df\n",
    "name_of_file = 'data.csv'\n",
    "print('Cleaning and importing data ... ')\n",
    "df = readData(name_of_file)"
   ]
  }
 ],
 "metadata": {
  "kernelspec": {
   "display_name": "Python 3",
   "language": "python",
   "name": "python3"
  },
  "language_info": {
   "codemirror_mode": {
    "name": "ipython",
    "version": 3
   },
   "file_extension": ".py",
   "mimetype": "text/x-python",
   "name": "python",
   "nbconvert_exporter": "python",
   "pygments_lexer": "ipython3",
   "version": "3.7.3"
  }
 },
 "nbformat": 4,
 "nbformat_minor": 2
}
